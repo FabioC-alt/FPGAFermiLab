{
 "cells": [
  {
   "cell_type": "code",
   "execution_count": 4,
   "id": "7ca4b5f4-cdac-4663-b541-6b27167c6e25",
   "metadata": {},
   "outputs": [],
   "source": [
    "import pynq\n",
    "pynq.PL.reset()\n",
    "ol = pynq.Overlay(\"AddingOne.bit\")\n",
    "import numpy as np"
   ]
  },
  {
   "cell_type": "code",
   "execution_count": 5,
   "id": "52f2256c-ede6-4898-8512-8158864347ac",
   "metadata": {},
   "outputs": [
    {
     "name": "stdout",
     "output_type": "stream",
     "text": [
      "Help on Overlay in module pynq.overlay:\n",
      "\n",
      "<pynq.overlay.Overlay object>\n",
      "    Default documentation for overlay AddingOne.bit. The following\n",
      "    attributes are available on this overlay:\n",
      "    \n",
      "    IP Blocks\n",
      "    ----------\n",
      "    axi_dma_0            : pynq.lib.dma.DMA\n",
      "    axi_gpio_0           : pynq.lib.axigpio.AxiGPIO\n",
      "    processing_system7_0 : pynq.overlay.DefaultIP\n",
      "    \n",
      "    Hierarchies\n",
      "    -----------\n",
      "    None\n",
      "    \n",
      "    Interrupts\n",
      "    ----------\n",
      "    None\n",
      "    \n",
      "    GPIO Outputs\n",
      "    ------------\n",
      "    None\n",
      "    \n",
      "    Memories\n",
      "    ------------\n",
      "    PSDDR                : Memory\n",
      "\n"
     ]
    }
   ],
   "source": [
    "help(ol)\n"
   ]
  },
  {
   "cell_type": "code",
   "execution_count": 3,
   "id": "e932e43e-133a-43b4-b181-f515ee6c8314",
   "metadata": {},
   "outputs": [],
   "source": [
    "array0 = np.array([1,2,3,4,5,6,7,8,9,10])\n",
    "samples = len(array0)\n",
    "\n",
    "input_buffer_1 = pynq.allocate(shape=(samples,), dtype=np.int16)\n",
    "output_buffer_1 = pynq.allocate(shape=(samples,), dtype=np.int16)\n",
    "\n",
    "np.copyto(output_buffer_1, array0)"
   ]
  },
  {
   "cell_type": "code",
   "execution_count": 9,
   "id": "141066b7-3450-4d8f-b658-891582f52e05",
   "metadata": {},
   "outputs": [],
   "source": [
    "ol.axi_dma_0.sendchannel.transfer(output_buffer_1)\n",
    "ol.axi_gpio_0.channel1.write(val=1, mask=0x1)\n",
    "ol.axi_gpio_0.channel2.write(val=10, mask=0xFFFFFFFF)\n",
    "ol.axi_dma_0.recvchannel.transfer(input_buffer_1)"
   ]
  },
  {
   "cell_type": "code",
   "execution_count": 10,
   "id": "a9ed429f-2345-4852-9071-8bde2c67d88e",
   "metadata": {},
   "outputs": [
    {
     "name": "stdout",
     "output_type": "stream",
     "text": [
      "[ 2  3  4  5  7  8  9 10 11  0]\n"
     ]
    }
   ],
   "source": [
    "print(input_buffer_1)"
   ]
  }
 ],
 "metadata": {
  "kernelspec": {
   "display_name": "Python 3 (ipykernel)",
   "language": "python",
   "name": "python3"
  },
  "language_info": {
   "codemirror_mode": {
    "name": "ipython",
    "version": 3
   },
   "file_extension": ".py",
   "mimetype": "text/x-python",
   "name": "python",
   "nbconvert_exporter": "python",
   "pygments_lexer": "ipython3",
   "version": "3.10.4"
  }
 },
 "nbformat": 4,
 "nbformat_minor": 5
}
