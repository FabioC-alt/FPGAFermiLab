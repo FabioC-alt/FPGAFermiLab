{
 "cells": [
  {
   "cell_type": "code",
   "execution_count": 3,
   "id": "2aee44a6-95a8-4857-b7c3-93200f0a4160",
   "metadata": {},
   "outputs": [],
   "source": [
    "import pynq\n",
    "pynq.PL.reset()\n",
    "ol = pynq.Overlay(\"AnalogEcho.bit\")"
   ]
  },
  {
   "cell_type": "code",
   "execution_count": 8,
   "id": "f715db75-ea26-4d6a-845d-d3ce60c44716",
   "metadata": {},
   "outputs": [],
   "source": [
    "offset_1 = +0.00 #Volts\n",
    "offset_2 = +0.25 #Volts\n",
    "\n",
    "offset_1 = int(offset_1 * (2**15 - 1))\n",
    "offset_2 = int(offset_2 * (2**15 - 1))\n",
    "\n",
    "ol.axi_gpio_0.channel1.write(val=offset_1, mask=0xffff)\n",
    "ol.axi_gpio_0.channel2.write(val=offset_2, mask=0xffff)"
   ]
  }
 ],
 "metadata": {
  "kernelspec": {
   "display_name": "Python 3 (ipykernel)",
   "language": "python",
   "name": "python3"
  },
  "language_info": {
   "codemirror_mode": {
    "name": "ipython",
    "version": 3
   },
   "file_extension": ".py",
   "mimetype": "text/x-python",
   "name": "python",
   "nbconvert_exporter": "python",
   "pygments_lexer": "ipython3",
   "version": "3.10.4"
  }
 },
 "nbformat": 4,
 "nbformat_minor": 5
}
