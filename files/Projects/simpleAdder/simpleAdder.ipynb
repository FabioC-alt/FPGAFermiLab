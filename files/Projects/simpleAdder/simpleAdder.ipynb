{
 "cells": [
  {
   "cell_type": "code",
   "execution_count": 13,
   "id": "486e70d3-fe74-49c0-8f58-92c36db362af",
   "metadata": {},
   "outputs": [],
   "source": [
    "import pynq\n",
    "pynq.PL.reset()\n",
    "ol = pynq.Overlay(\"simpleAdder.bit\")"
   ]
  },
  {
   "cell_type": "code",
   "execution_count": 14,
   "id": "5a8bfb8c-d0fe-48c5-88b9-1318a460bf22",
   "metadata": {},
   "outputs": [
    {
     "name": "stdout",
     "output_type": "stream",
     "text": [
      "Help on Overlay in module pynq.overlay:\n",
      "\n",
      "<pynq.overlay.Overlay object>\n",
      "    Default documentation for overlay simpleAdder.bit. The following\n",
      "    attributes are available on this overlay:\n",
      "    \n",
      "    IP Blocks\n",
      "    ----------\n",
      "    axi_gpio_0           : pynq.lib.axigpio.AxiGPIO\n",
      "    axi_gpio_1           : pynq.lib.axigpio.AxiGPIO\n",
      "    processing_system7_0 : pynq.overlay.DefaultIP\n",
      "    \n",
      "    Hierarchies\n",
      "    -----------\n",
      "    None\n",
      "    \n",
      "    Interrupts\n",
      "    ----------\n",
      "    None\n",
      "    \n",
      "    GPIO Outputs\n",
      "    ------------\n",
      "    None\n",
      "    \n",
      "    Memories\n",
      "    ------------\n",
      "    PSDDR                : Memory\n",
      "\n"
     ]
    }
   ],
   "source": [
    "help(ol)"
   ]
  },
  {
   "cell_type": "code",
   "execution_count": 23,
   "id": "8f15bb5b-7ac1-4945-a54f-c66821a99447",
   "metadata": {},
   "outputs": [
    {
     "name": "stdout",
     "output_type": "stream",
     "text": [
      "4294967284\n",
      "-12\n"
     ]
    }
   ],
   "source": [
    "ol.axi_gpio_0.channel1.write(val=20, mask=0xffff)\n",
    "ol.axi_gpio_0.channel2.write(val=-32, mask=0xffff)\n",
    "\n",
    "ana = ol.axi_gpio_1.channel1.read()\n",
    "\n",
    "print(ana)\n",
    "\n",
    "# Convert to signed 32-bit integer if necessary\n",
    "if ana >= 0x80000000:  # 0x80000000 is 2147483648 in decimal, the threshold for negative numbers in 32-bit signed integers\n",
    "    ana -= 0x100000000  # Subtract 4294967296 to convert to the negative range\n",
    "\n",
    "print(ana)\n"
   ]
  },
  {
   "cell_type": "code",
   "execution_count": null,
   "id": "919086ad-0850-4521-8852-ca83a4f7f175",
   "metadata": {},
   "outputs": [],
   "source": []
  }
 ],
 "metadata": {
  "kernelspec": {
   "display_name": "Python 3 (ipykernel)",
   "language": "python",
   "name": "python3"
  },
  "language_info": {
   "codemirror_mode": {
    "name": "ipython",
    "version": 3
   },
   "file_extension": ".py",
   "mimetype": "text/x-python",
   "name": "python",
   "nbconvert_exporter": "python",
   "pygments_lexer": "ipython3",
   "version": "3.10.4"
  }
 },
 "nbformat": 4,
 "nbformat_minor": 5
}
