{
 "cells": [
  {
   "cell_type": "code",
   "execution_count": 1,
   "id": "ea4744cc-cdbc-4dbb-b397-403db798bd86",
   "metadata": {},
   "outputs": [
    {
     "ename": "ModuleNotFoundError",
     "evalue": "No module named 'numpy'",
     "output_type": "error",
     "traceback": [
      "\u001b[0;31m---------------------------------------------------------------------------\u001b[0m",
      "\u001b[0;31mModuleNotFoundError\u001b[0m                       Traceback (most recent call last)",
      "Cell \u001b[0;32mIn[1], line 1\u001b[0m\n\u001b[0;32m----> 1\u001b[0m \u001b[38;5;28;01mimport\u001b[39;00m \u001b[38;5;21;01mnumpy\u001b[39;00m \u001b[38;5;28;01mas\u001b[39;00m \u001b[38;5;21;01mnp\u001b[39;00m\n\u001b[1;32m      2\u001b[0m \u001b[38;5;28;01mimport\u001b[39;00m \u001b[38;5;21;01mmatplotlib\u001b[39;00m\u001b[38;5;21;01m.\u001b[39;00m\u001b[38;5;21;01mpyplot\u001b[39;00m \u001b[38;5;28;01mas\u001b[39;00m \u001b[38;5;21;01mplt\u001b[39;00m\n\u001b[1;32m      3\u001b[0m \u001b[38;5;28;01mfrom\u001b[39;00m \u001b[38;5;21;01mscipy\u001b[39;00m\u001b[38;5;21;01m.\u001b[39;00m\u001b[38;5;21;01msignal\u001b[39;00m \u001b[38;5;28;01mimport\u001b[39;00m welch\n",
      "\u001b[0;31mModuleNotFoundError\u001b[0m: No module named 'numpy'"
     ]
    }
   ],
   "source": [
    "import numpy as np\n",
    "import matplotlib.pyplot as plt\n",
    "from scipy.signal import welch\n",
    "from scipy.signal.windows import hamming\n",
    "\n",
    "# Generate a sample signal\n",
    "fs = 10000  # Sampling frequency\n",
    "t = np.linspace(0, 10, 10 * fs, endpoint=False)  # Time array\n",
    "f1= 1234# Frequencies of the components\n",
    "f2= 2500.2157 #Frequenci two\n",
    "amp1= 2.828\n",
    "amp2= 1\n",
    "\n",
    "signal = amp1 * np.sin(2*np.pi*f1*t)+amp2 * np.sin(2*np.pi*f2*t)\n",
    "print(\"Time signal Value generated \")\n",
    "print(t)\n",
    "print(signal)\n",
    "\n",
    "# Parameters for Welch's method\n",
    "nperseg = 1024  # Length of each segment\n",
    "noverlap = nperseg // 2  # Overlap between segments\n",
    "\n",
    "# Compute the PSD using Welch's method\n",
    "frequencies, psd = welch(signal, fs, nperseg=nperseg, noverlap=noverlap)\n",
    "\n",
    "# Plot the original signal\n",
    "plt.figure(figsize=(12, 8))\n",
    "plt.subplot(3, 1, 1)\n",
    "plt.plot(t, signal, label='Signal')\n",
    "plt.title('Original Signal')\n",
    "plt.xlabel('Time [s]')\n",
    "plt.ylabel('Amplitude')\n",
    "plt.grid(True)\n",
    "plt.legend()\n",
    "\n",
    "plt.tight_layout()\n",
    "plt.show()\n",
    "\n",
    "# Plot the final PSD estimate\n",
    "plt.figure(figsize=(10, 6))\n",
    "plt.semilogy(frequencies, psd, label='Welch PSD')\n",
    "plt.title('Power Spectral Density using Welch Method')\n",
    "plt.xlabel('Frequency [Hz]')\n",
    "plt.ylabel('Power/Frequency [V^2/Hz]')\n",
    "plt.grid(True)\n",
    "plt.legend()\n",
    "plt.show()\n"
   ]
  },
  {
   "cell_type": "code",
   "execution_count": null,
   "id": "16e54d85-91d0-49e8-9c00-0f1c3bd3d696",
   "metadata": {},
   "outputs": [],
   "source": []
  }
 ],
 "metadata": {
  "kernelspec": {
   "display_name": "Python 3 (ipykernel)",
   "language": "python",
   "name": "python3"
  },
  "language_info": {
   "codemirror_mode": {
    "name": "ipython",
    "version": 3
   },
   "file_extension": ".py",
   "mimetype": "text/x-python",
   "name": "python",
   "nbconvert_exporter": "python",
   "pygments_lexer": "ipython3",
   "version": "3.11.2"
  }
 },
 "nbformat": 4,
 "nbformat_minor": 5
}
